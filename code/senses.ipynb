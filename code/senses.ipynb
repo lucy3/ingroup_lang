{
 "cells": [
  {
   "cell_type": "code",
   "execution_count": 27,
   "metadata": {},
   "outputs": [],
   "source": [
    "from glossary_eval import get_sr2terms\n",
    "from scipy.stats import ttest_ind\n",
    "import matplotlib.pyplot as plt\n",
    "import os\n",
    "import csv\n",
    "from collections import defaultdict\n",
    "import tqdm\n",
    "import numpy as np"
   ]
  },
  {
   "cell_type": "code",
   "execution_count": 28,
   "metadata": {},
   "outputs": [],
   "source": [
    "ROOT = '/data0/lucy/ingroup_lang/'\n",
    "LOG_DIR = ROOT + 'logs/' \n",
    "SENSE_PMI_DIR = LOG_DIR + 'finetuned_sense_pmi/'\n",
    "TYPE_PMI_DIR = LOG_DIR + 'pmi/'"
   ]
  },
  {
   "cell_type": "code",
   "execution_count": 29,
   "metadata": {},
   "outputs": [],
   "source": [
    "sr2terms = get_sr2terms()"
   ]
  },
  {
   "cell_type": "code",
   "execution_count": 30,
   "metadata": {},
   "outputs": [
    {
     "name": "stderr",
     "output_type": "stream",
     "text": [
      "100%|██████████| 474/474 [00:03<00:00, 136.27it/s]\n"
     ]
    }
   ],
   "source": [
    "gloss_vals = []\n",
    "not_gloss_vals = []\n",
    "for filename in tqdm.tqdm(sorted(os.listdir(SENSE_PMI_DIR))): \n",
    "    subreddit = filename.replace('.csv', '')\n",
    "    if subreddit not in sr2terms: continue\n",
    "    gloss_terms = set(sr2terms[subreddit])\n",
    "    with open(SENSE_PMI_DIR + filename, 'r') as infile: \n",
    "        w2score = defaultdict(list)\n",
    "        reader = csv.DictReader(infile)\n",
    "        for row in reader: \n",
    "            w = row['sense'].split('#####')[0]\n",
    "            score = float(row['pmi'])\n",
    "            w2score[w].append(score)\n",
    "        for w in w2score: \n",
    "            if w in gloss_terms: \n",
    "                gloss_vals.append(max(w2score[w]))\n",
    "            else: \n",
    "                not_gloss_vals.append(max(w2score[w]))"
   ]
  },
  {
   "cell_type": "code",
   "execution_count": 31,
   "metadata": {},
   "outputs": [
    {
     "name": "stdout",
     "output_type": "stream",
     "text": [
      "Ttest_indResult(statistic=48.21238574797952, pvalue=0.0)\n"
     ]
    }
   ],
   "source": [
    "print(ttest_ind(gloss_vals, not_gloss_vals))"
   ]
  },
  {
   "cell_type": "code",
   "execution_count": 32,
   "metadata": {},
   "outputs": [
    {
     "data": {
      "text/plain": [
       "<matplotlib.legend.Legend at 0x7f3b1c67ae50>"
      ]
     },
     "execution_count": 32,
     "metadata": {},
     "output_type": "execute_result"
    },
    {
     "data": {
      "image/png": "[encoded data removed]",
      "text/plain": [
       "<Figure size 432x288 with 1 Axes>"
      ]
     },
     "metadata": {
      "needs_background": "light"
     },
     "output_type": "display_data"
    }
   ],
   "source": [
    "plt.hist(gloss_vals, label=\"glossary\", alpha=0.2)\n",
    "plt.hist(not_gloss_vals, label=\"non-glossary\", alpha=0.2)\n",
    "plt.yscale('log')\n",
    "plt.ylabel('# of words')\n",
    "plt.xlabel('max sense pmi')\n",
    "plt.legend()"
   ]
  },
  {
   "cell_type": "code",
   "execution_count": 33,
   "metadata": {},
   "outputs": [
    {
     "name": "stdout",
     "output_type": "stream",
     "text": [
      "0.05504291061365998\n",
      "0.00962568777329167\n"
     ]
    }
   ],
   "source": [
    "print(np.mean(gloss_vals))\n",
    "print(np.mean(not_gloss_vals))"
   ]
  },
  {
   "cell_type": "code",
   "execution_count": 42,
   "metadata": {},
   "outputs": [
    {
     "name": "stderr",
     "output_type": "stream",
     "text": [
      "100%|██████████| 474/474 [00:02<00:00, 208.58it/s]\n"
     ]
    }
   ],
   "source": [
    "gloss_vals = []\n",
    "not_gloss_vals = []\n",
    "for filename in tqdm.tqdm(sorted(os.listdir(TYPE_PMI_DIR))): \n",
    "    subreddit = filename.replace('_0.2.csv', '')\n",
    "    if subreddit not in sr2terms: continue\n",
    "    gloss_terms = set(sr2terms[subreddit])\n",
    "    with open(TYPE_PMI_DIR + filename, 'r') as infile: \n",
    "        w2score = defaultdict(list)\n",
    "        reader = csv.DictReader(infile)\n",
    "        for row in reader: \n",
    "            w = row['word']\n",
    "            score = float(row['pmi'])\n",
    "            if w in gloss_terms: \n",
    "                gloss_vals.append(score)\n",
    "            else: \n",
    "                not_gloss_vals.append(score)"
   ]
  },
  {
   "cell_type": "code",
   "execution_count": 45,
   "metadata": {},
   "outputs": [
    {
     "data": {
      "text/plain": [
       "<matplotlib.legend.Legend at 0x7f3b1c383e50>"
      ]
     },
     "execution_count": 45,
     "metadata": {},
     "output_type": "execute_result"
    },
    {
     "data": {
      "image/png": "[encoded data removed]",
      "text/plain": [
       "<Figure size 432x288 with 1 Axes>"
      ]
     },
     "metadata": {
      "needs_background": "light"
     },
     "output_type": "display_data"
    }
   ],
   "source": [
    "plt.hist(gloss_vals, label=\"glossary\", alpha=0.2)\n",
    "plt.hist(not_gloss_vals, label=\"non-glossary\", alpha=0.2)\n",
    "plt.yscale('log')\n",
    "plt.ylabel('# of words')\n",
    "plt.xlabel('type pmi')\n",
    "plt.legend()"
   ]
  },
  {
   "cell_type": "code",
   "execution_count": 46,
   "metadata": {},
   "outputs": [
    {
     "name": "stdout",
     "output_type": "stream",
     "text": [
      "Ttest_indResult(statistic=53.63694201629838, pvalue=0.0)\n"
     ]
    }
   ],
   "source": [
    "print(ttest_ind(gloss_vals, not_gloss_vals))"
   ]
  },
  {
   "cell_type": "code",
   "execution_count": 47,
   "metadata": {},
   "outputs": [
    {
     "name": "stdout",
     "output_type": "stream",
     "text": [
      "0.16822363961140904\n",
      "0.027510307871176597\n"
     ]
    }
   ],
   "source": [
    "print(np.mean(gloss_vals))\n",
    "print(np.mean(not_gloss_vals))"
   ]
  },
  {
   "cell_type": "code",
   "execution_count": null,
   "metadata": {},
   "outputs": [],
   "source": []
  }
 ],
 "metadata": {
  "kernelspec": {
   "display_name": "Python 3",
   "language": "python",
   "name": "python3"
  },
  "language_info": {
   "codemirror_mode": {
    "name": "ipython",
    "version": 3
   },
   "file_extension": ".py",
   "mimetype": "text/x-python",
   "name": "python",
   "nbconvert_exporter": "python",
   "pygments_lexer": "ipython3",
   "version": "3.7.5"
  }
 },
 "nbformat": 4,
 "nbformat_minor": 2
}
